{
 "cells": [
  {
   "cell_type": "code",
   "execution_count": 2,
   "id": "4cbb5021-13f2-4ede-b4d5-667307ea65b2",
   "metadata": {},
   "outputs": [],
   "source": [
    "# Parameters\n",
    "# MaximumTemperature, \n",
    "# Rainfall, \n",
    "# Sunshine, \n",
    "# WindGustSpeed, \n",
    "# Humidity9am, \n",
    "# Humidity3pm, \n",
    "# Pressure9am, \n",
    "# Pressure3pm, \n",
    "# Cloud9am, \n",
    "# Cloud3pm, \n",
    "# Temperature3pm"
   ]
  },
  {
   "cell_type": "code",
   "execution_count": 2,
   "id": "250ddbe8-7a52-4da4-b1e8-87ddaced6f80",
   "metadata": {},
   "outputs": [
    {
     "name": "stderr",
     "output_type": "stream",
     "text": [
      "C:\\Python312\\Lib\\site-packages\\tqdm\\auto.py:21: TqdmWarning: IProgress not found. Please update jupyter and ipywidgets. See https://ipywidgets.readthedocs.io/en/stable/user_install.html\n",
      "  from .autonotebook import tqdm as notebook_tqdm\n"
     ]
    }
   ],
   "source": [
    "import gradio as gr\n",
    "mapp = {0:'No', 1:'Yes', 2:'nan' }"
   ]
  },
  {
   "cell_type": "code",
   "execution_count": 3,
   "id": "0ca989f9-6499-483c-b517-2e93f96ca85b",
   "metadata": {},
   "outputs": [],
   "source": [
    "def my_function(input1, input2, input3, input4, input5, input6, input7, input8, input9, input10, input11):\n",
    "    I1, I2, I3 = float(input1), float(input2), float(input3)\n",
    "    I4, I5, I6 = float(input4), float(input5), float(input6)\n",
    "    I7, I8, I9 = float(input7), float(input8), float(input9)\n",
    "    I10, I11 = float(input10), float(input11)\n",
    "    import numpy as np\n",
    "    A = np.array([I1,I2,I3,I4,I5,I6,I7,I8,I9,I10,I11])\n",
    "    B = A.reshape(1,11)\n",
    "    TD = 0\n",
    "    TM = 0\n",
    "    mapp = {0:'No', 1:'Yes', 2:'nan' }\n",
    "    import pickle\n",
    "    with open(\"CBT_SVM_TD.pkl\", \"rb\") as f:\n",
    "        Today = pickle.load(f)\n",
    "        TD1 = Today.predict(B)\n",
    "        TD = mapp[int(TD1)]\n",
    "        \n",
    "    with open(\"CBT_RF_TM.pkl\", \"rb\") as f:\n",
    "        Tomorrow = pickle.load(f)\n",
    "        TM1 = Tomorrow.predict(B)\n",
    "        TM = mapp[int(TM1)]\n",
    "        \n",
    "    result = f\"Today : {TD}, Tomorrow : {TM}\"\n",
    "    return result"
   ]
  },
  {
   "cell_type": "code",
   "execution_count": 4,
   "id": "d68e328c-74b7-4fc7-b432-501bf48ce702",
   "metadata": {},
   "outputs": [
    {
     "name": "stdout",
     "output_type": "stream",
     "text": [
      "Running on local URL:  http://127.0.0.1:7860\n",
      "\n",
      "To create a public link, set `share=True` in `launch()`.\n"
     ]
    },
    {
     "data": {
      "text/html": [
       "<div><iframe src=\"http://127.0.0.1:7860/\" width=\"100%\" height=\"500\" allow=\"autoplay; camera; microphone; clipboard-read; clipboard-write;\" frameborder=\"0\" allowfullscreen></iframe></div>"
      ],
      "text/plain": [
       "<IPython.core.display.HTML object>"
      ]
     },
     "metadata": {},
     "output_type": "display_data"
    },
    {
     "data": {
      "text/plain": []
     },
     "execution_count": 4,
     "metadata": {},
     "output_type": "execute_result"
    }
   ],
   "source": [
    "iface = gr.Interface(fn=my_function, \n",
    "                     inputs=[gr.Textbox(label=\"Maximum Temperature(℃)\"), gr.Textbox(label='Rainfall(mm)'), gr.Textbox(label='Sunshine(W/sqq.m)'),gr.Textbox(label=\"Wind Gust Speed(m/s)\"), gr.Textbox(label='Humidity at 9am'), gr.Textbox(label='Humidity at 3pm'),gr.Textbox(label=\"Pressure at 9am(atm)\"), gr.Textbox(label='Pressure at 3pm(atm)'), gr.Textbox(label='Cloud at 9am(Oktas)'),gr.Textbox(label=\"Cloud at 3pm(Oktas)\"), gr.Textbox(label='Temperature at 3pm(℃)')],\n",
    "                     outputs=gr.Textbox(label='Cloudburst'))\n",
    "\n",
    "iface.launch()"
   ]
  },
  {
   "cell_type": "code",
   "execution_count": null,
   "id": "57264ce3-4254-498a-9b55-df9cafb4cc70",
   "metadata": {},
   "outputs": [],
   "source": []
  }
 ],
 "metadata": {
  "kernelspec": {
   "display_name": "Python 3 (ipykernel)",
   "language": "python",
   "name": "python3"
  },
  "language_info": {
   "codemirror_mode": {
    "name": "ipython",
    "version": 3
   },
   "file_extension": ".py",
   "mimetype": "text/x-python",
   "name": "python",
   "nbconvert_exporter": "python",
   "pygments_lexer": "ipython3",
   "version": "3.12.0"
  }
 },
 "nbformat": 4,
 "nbformat_minor": 5
}
